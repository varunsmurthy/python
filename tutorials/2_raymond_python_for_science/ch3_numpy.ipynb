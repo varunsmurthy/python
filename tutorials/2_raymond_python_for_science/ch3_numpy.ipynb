{
 "cells": [
  {
   "cell_type": "markdown",
   "metadata": {},
   "source": [
    "# Chapter 3: Numerical Calculations with Numpy\n",
    "\n",
    "## Creating arrays"
   ]
  },
  {
   "cell_type": "markdown",
   "metadata": {},
   "source": [
    "Numpy defines a new numeric datatype called the ndarray. Use import numpy or from numpy import \\*. ndarrays can be created using the array() function."
   ]
  },
  {
   "cell_type": "code",
   "execution_count": 8,
   "metadata": {},
   "outputs": [
    {
     "name": "stdout",
     "output_type": "stream",
     "text": [
      "test_ndarray_1d:  [1 2 3]\n",
      "test_ndarray_1d.shape:  (3,)\n",
      "test_ndarray_2d:  [[1 2 3]\n",
      " [4 5 6]]\n",
      "test_ndarray_2d.size:  6\n",
      "test_ndarray_2d.shape:  (2, 3)\n",
      "test_ndarray_3d:\n",
      "[[[ 1  2  3]\n",
      "  [ 4  5  6]]\n",
      "\n",
      " [[ 7  8  9]\n",
      "  [10 11 12]]]\n",
      "test_ndarray_3d.size:  12\n",
      "test_ndarray_3d.shape:  (2, 2, 3)\n"
     ]
    }
   ],
   "source": [
    "from numpy import *\n",
    "\n",
    "test_ndarray_1d = array([1,2,3])\n",
    "test_ndarray_2d = array([[1, 2, 3],[4, 5, 6]])\n",
    "test_ndarray_3d = array([[[1,2,3],[4,5,6]], [[7,8,9],[10,11,12]]])\n",
    "\n",
    "print(\"test_ndarray_1d: \",test_ndarray_1d)\n",
    "print(\"test_ndarray_1d.shape: \", test_ndarray_1d.shape)\n",
    "print(\"test_ndarray_2d: \", test_ndarray_2d)\n",
    "print(\"test_ndarray_2d.size: \", test_ndarray_2d.size)\n",
    "print(\"test_ndarray_2d.shape: \", test_ndarray_2d.shape)\n",
    "print(\"test_ndarray_3d:\")\n",
    "print(test_ndarray_3d)\n",
    "print(\"test_ndarray_3d.size: \", test_ndarray_3d.size)\n",
    "print(\"test_ndarray_3d.shape: \", test_ndarray_3d.shape)"
   ]
  },
  {
   "cell_type": "markdown",
   "metadata": {},
   "source": [
    "Alernatively, arange (start, stop, interval) and linspace (start, stop, count) can be used to create 1-D arrays. zeros(shape tuple) and ones (shape tuple) can also be used to create ndarrays."
   ]
  },
  {
   "cell_type": "markdown",
   "metadata": {},
   "source": [
    "Furthermore, meshgrid can be used to create the \"mesh\" which specifies positions in a dimensional vector space (think two-dimensional x-y grid)"
   ]
  },
  {
   "cell_type": "code",
   "execution_count": 15,
   "metadata": {},
   "outputs": [
    {
     "name": "stdout",
     "output_type": "stream",
     "text": [
      "X: \n",
      " [[0. 1. 2. 3. 4. 5.]\n",
      " [0. 1. 2. 3. 4. 5.]\n",
      " [0. 1. 2. 3. 4. 5.]\n",
      " [0. 1. 2. 3. 4. 5.]]\n",
      "Y: \n",
      " [[0. 0. 0. 0. 0. 0.]\n",
      " [1. 1. 1. 1. 1. 1.]\n",
      " [2. 2. 2. 2. 2. 2.]\n",
      " [3. 3. 3. 3. 3. 3.]]\n",
      "==================================\n",
      "X: \n",
      " [[[0. 0. 0.]\n",
      "  [1. 1. 1.]\n",
      "  [2. 2. 2.]\n",
      "  [3. 3. 3.]\n",
      "  [4. 4. 4.]\n",
      "  [5. 5. 5.]]\n",
      "\n",
      " [[0. 0. 0.]\n",
      "  [1. 1. 1.]\n",
      "  [2. 2. 2.]\n",
      "  [3. 3. 3.]\n",
      "  [4. 4. 4.]\n",
      "  [5. 5. 5.]]\n",
      "\n",
      " [[0. 0. 0.]\n",
      "  [1. 1. 1.]\n",
      "  [2. 2. 2.]\n",
      "  [3. 3. 3.]\n",
      "  [4. 4. 4.]\n",
      "  [5. 5. 5.]]\n",
      "\n",
      " [[0. 0. 0.]\n",
      "  [1. 1. 1.]\n",
      "  [2. 2. 2.]\n",
      "  [3. 3. 3.]\n",
      "  [4. 4. 4.]\n",
      "  [5. 5. 5.]]]\n",
      "Y: \n",
      " [[[0. 0. 0.]\n",
      "  [0. 0. 0.]\n",
      "  [0. 0. 0.]\n",
      "  [0. 0. 0.]\n",
      "  [0. 0. 0.]\n",
      "  [0. 0. 0.]]\n",
      "\n",
      " [[1. 1. 1.]\n",
      "  [1. 1. 1.]\n",
      "  [1. 1. 1.]\n",
      "  [1. 1. 1.]\n",
      "  [1. 1. 1.]\n",
      "  [1. 1. 1.]]\n",
      "\n",
      " [[2. 2. 2.]\n",
      "  [2. 2. 2.]\n",
      "  [2. 2. 2.]\n",
      "  [2. 2. 2.]\n",
      "  [2. 2. 2.]\n",
      "  [2. 2. 2.]]\n",
      "\n",
      " [[3. 3. 3.]\n",
      "  [3. 3. 3.]\n",
      "  [3. 3. 3.]\n",
      "  [3. 3. 3.]\n",
      "  [3. 3. 3.]\n",
      "  [3. 3. 3.]]]\n",
      "Z: \n",
      " [[[0. 1. 2.]\n",
      "  [0. 1. 2.]\n",
      "  [0. 1. 2.]\n",
      "  [0. 1. 2.]\n",
      "  [0. 1. 2.]\n",
      "  [0. 1. 2.]]\n",
      "\n",
      " [[0. 1. 2.]\n",
      "  [0. 1. 2.]\n",
      "  [0. 1. 2.]\n",
      "  [0. 1. 2.]\n",
      "  [0. 1. 2.]\n",
      "  [0. 1. 2.]]\n",
      "\n",
      " [[0. 1. 2.]\n",
      "  [0. 1. 2.]\n",
      "  [0. 1. 2.]\n",
      "  [0. 1. 2.]\n",
      "  [0. 1. 2.]\n",
      "  [0. 1. 2.]]\n",
      "\n",
      " [[0. 1. 2.]\n",
      "  [0. 1. 2.]\n",
      "  [0. 1. 2.]\n",
      "  [0. 1. 2.]\n",
      "  [0. 1. 2.]\n",
      "  [0. 1. 2.]]]\n",
      "X: \n",
      " [[[0. 0. 0.]\n",
      "  [1. 1. 1.]\n",
      "  [2. 2. 2.]\n",
      "  [3. 3. 3.]\n",
      "  [4. 4. 4.]\n",
      "  [5. 5. 5.]]\n",
      "\n",
      " [[0. 0. 0.]\n",
      "  [1. 1. 1.]\n",
      "  [2. 2. 2.]\n",
      "  [3. 3. 3.]\n",
      "  [4. 4. 4.]\n",
      "  [5. 5. 5.]]\n",
      "\n",
      " [[0. 0. 0.]\n",
      "  [1. 1. 1.]\n",
      "  [2. 2. 2.]\n",
      "  [3. 3. 3.]\n",
      "  [4. 4. 4.]\n",
      "  [5. 5. 5.]]\n",
      "\n",
      " [[0. 0. 0.]\n",
      "  [1. 1. 1.]\n",
      "  [2. 2. 2.]\n",
      "  [3. 3. 3.]\n",
      "  [4. 4. 4.]\n",
      "  [5. 5. 5.]]]\n",
      "X.shape: \n",
      " (4, 6, 3)\n"
     ]
    }
   ],
   "source": [
    "x = arange(0,5.1)\n",
    "y = arange(0,3.1)\n",
    "z = arange(0,2.1)\n",
    "\n",
    "(X,Y) = meshgrid(x,y)\n",
    "print(\"X: \\n\",X)\n",
    "print(\"Y: \\n\",Y)\n",
    "\n",
    "(X,Y,Z) = meshgrid(x,y,z)\n",
    "print(\"==================================\")\n",
    "print(\"X: \\n\",X)\n",
    "print(\"Y: \\n\",Y)\n",
    "print(\"Z: \\n\",Z)\n",
    "print(\"X: \\n\",X)\n",
    "print(\"X.shape: \\n\",X.shape)"
   ]
  },
  {
   "cell_type": "markdown",
   "metadata": {},
   "source": [
    "The 3-d case is confusing because the first argument (x) is the second dimension of X,Y,Z, the second argument (y) is the first, and the third argment is the third dimension."
   ]
  }
 ],
 "metadata": {
  "kernelspec": {
   "display_name": "Python 3",
   "language": "python",
   "name": "python3"
  },
  "language_info": {
   "codemirror_mode": {
    "name": "ipython",
    "version": 3
   },
   "file_extension": ".py",
   "mimetype": "text/x-python",
   "name": "python",
   "nbconvert_exporter": "python",
   "pygments_lexer": "ipython3",
   "version": "3.7.1"
  }
 },
 "nbformat": 4,
 "nbformat_minor": 2
}
