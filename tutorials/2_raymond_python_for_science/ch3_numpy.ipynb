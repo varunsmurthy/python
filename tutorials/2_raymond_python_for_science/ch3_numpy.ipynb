{
 "cells": [
  {
   "cell_type": "markdown",
   "metadata": {},
   "source": [
    "# Chapter 3: Numerical Calculations with Numpy\n",
    "\n",
    "## Creating arrays"
   ]
  },
  {
   "cell_type": "markdown",
   "metadata": {},
   "source": [
    "Numpy defines a new numeric datatype called the ndarray. Use import numpy or from numpy import \\*. ndarrays can be created using the array() function."
   ]
  },
  {
   "cell_type": "code",
   "execution_count": 8,
   "metadata": {},
   "outputs": [
    {
     "name": "stdout",
     "output_type": "stream",
     "text": [
      "test_ndarray_1d:  [1 2 3]\n",
      "test_ndarray_1d.shape:  (3,)\n",
      "test_ndarray_2d:  [[1 2 3]\n",
      " [4 5 6]]\n",
      "test_ndarray_2d.size:  6\n",
      "test_ndarray_2d.shape:  (2, 3)\n",
      "test_ndarray_3d:\n",
      "[[[ 1  2  3]\n",
      "  [ 4  5  6]]\n",
      "\n",
      " [[ 7  8  9]\n",
      "  [10 11 12]]]\n",
      "test_ndarray_3d.size:  12\n",
      "test_ndarray_3d.shape:  (2, 2, 3)\n"
     ]
    }
   ],
   "source": [
    "from numpy import *\n",
    "\n",
    "test_ndarray_1d = array([1,2,3])\n",
    "test_ndarray_2d = array([[1, 2, 3],[4, 5, 6]])\n",
    "test_ndarray_3d = array([[[1,2,3],[4,5,6]], [[7,8,9],[10,11,12]]])\n",
    "\n",
    "print(\"test_ndarray_1d: \",test_ndarray_1d)\n",
    "print(\"test_ndarray_1d.shape: \", test_ndarray_1d.shape)\n",
    "print(\"test_ndarray_2d: \", test_ndarray_2d)\n",
    "print(\"test_ndarray_2d.size: \", test_ndarray_2d.size)\n",
    "print(\"test_ndarray_2d.shape: \", test_ndarray_2d.shape)\n",
    "print(\"test_ndarray_3d:\")\n",
    "print(test_ndarray_3d)\n",
    "print(\"test_ndarray_3d.size: \", test_ndarray_3d.size)\n",
    "print(\"test_ndarray_3d.shape: \", test_ndarray_3d.shape)"
   ]
  },
  {
   "cell_type": "markdown",
   "metadata": {},
   "source": [
    "Alernatively, arange (start, stop, interval) and linspace (start, stop, count) can be used to create 1-D arrays."
   ]
  }
 ],
 "metadata": {
  "kernelspec": {
   "display_name": "Python 3",
   "language": "python",
   "name": "python3"
  },
  "language_info": {
   "codemirror_mode": {
    "name": "ipython",
    "version": 3
   },
   "file_extension": ".py",
   "mimetype": "text/x-python",
   "name": "python",
   "nbconvert_exporter": "python",
   "pygments_lexer": "ipython3",
   "version": "3.7.1"
  }
 },
 "nbformat": 4,
 "nbformat_minor": 2
}
