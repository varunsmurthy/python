{
 "cells": [
  {
   "cell_type": "markdown",
   "metadata": {},
   "source": [
    "Here, we write a function to return a range of floats."
   ]
  },
  {
   "cell_type": "code",
   "execution_count": 4,
   "metadata": {
    "collapsed": false,
    "scrolled": true
   },
   "outputs": [
    {
     "name": "stdout",
     "output_type": "stream",
     "text": [
      "0.5\n",
      "2.5\n",
      "4.5\n",
      "6.5\n",
      "8.5\n"
     ]
    }
   ],
   "source": [
    "def frange(start_val,stop_val,step):\n",
    "    curr_val = start_val;\n",
    "    retn_val = []\n",
    "    \n",
    "    while curr_val<stop_val:\n",
    "       retn_val.append(curr_val)\n",
    "       curr_val = curr_val + step \n",
    "       \n",
    "    return retn_val\n",
    "       \n",
    "\n",
    "def main():\n",
    "    start_val = 0.5;\n",
    "    stop_val = 9.5;\n",
    "    step = 2;\n",
    "    \n",
    "    for i in frange(start_val,stop_val,step):\n",
    "        print(i)\n",
    "\n",
    "if __name__ == '__main__':\n",
    "    main()"
   ]
  }
 ],
 "metadata": {
  "kernelspec": {
   "display_name": "Python 3",
   "language": "python",
   "name": "python3"
  },
  "language_info": {
   "codemirror_mode": {
    "name": "ipython",
    "version": 3
   },
   "file_extension": ".py",
   "mimetype": "text/x-python",
   "name": "python",
   "nbconvert_exporter": "python",
   "pygments_lexer": "ipython3",
   "version": "3.6.0"
  }
 },
 "nbformat": 4,
 "nbformat_minor": 2
}
