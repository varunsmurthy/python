{
 "cells": [
  {
   "cell_type": "markdown",
   "metadata": {},
   "source": [
    "Here we want to check if python function calls are call by reference or call by value. Let us first define some functions that operate on the function variable."
   ]
  },
  {
   "cell_type": "code",
   "execution_count": 3,
   "metadata": {},
   "outputs": [],
   "source": [
    "def check_numerical(ip_numerical):\n",
    "    ip_numerical = ip_numerical + 5\n",
    "\n",
    "\n",
    "def check_string(ip_string):\n",
    "    ip_string = ip_string + \" is modified\"\n",
    "\n",
    "\n",
    "def check_list(ip_list):\n",
    "    ip_list.append(5)\n",
    "    ip_list[0] = 10\n",
    "\n",
    "\n",
    "def check_dict(ip_dict):\n",
    "    ip_dict[\"added_key1\"] = 10\n",
    "    ip_dict[\"added_key2\"] = 20"
   ]
  },
  {
   "cell_type": "markdown",
   "metadata": {},
   "source": [
    "Let us now call these methods and check how the values are passed."
   ]
  },
  {
   "cell_type": "code",
   "execution_count": 5,
   "metadata": {},
   "outputs": [
    {
     "name": "stdout",
     "output_type": "stream",
     "text": [
      "before calling: a = 5\n",
      "after calling: a = 5\n",
      "before calling: a = test string\n",
      "after calling: a = test string\n",
      "before calling: a = [0, 1, 2, 3, 4, 5]\n",
      "after calling: a = [10, 1, 2, 3, 4, 5, 5]\n",
      "before calling: a = {'this': 77, 'there': 45, 'hi': 10, 'at': 23, 'Hello': 7}\n",
      "after calling: a = {'this': 77, 'there': 45, 'hi': 10, 'at': 23, 'Hello': 7, 'added_key1': 10, 'added_key2': 20}\n"
     ]
    }
   ],
   "source": [
    "a = 5\n",
    "print(\"before calling: a = \" + str(a))\n",
    "check_numerical(a)\n",
    "print(\"after calling: a = \" + str(a))\n",
    "\n",
    "a = \"test string\"\n",
    "print(\"before calling: a = \" + str(a))\n",
    "check_string(a)\n",
    "print(\"after calling: a = \" + str(a))\n",
    "\n",
    "a = [0,1,2,3,4,5]\n",
    "print(\"before calling: a = \" + str(a))\n",
    "check_list(a)\n",
    "print(\"after calling: a = \" + str(a))\n",
    "\n",
    "a = {'this': 77, 'there': 45, 'hi': 10, 'at': 23, 'Hello': 7}\n",
    "print(\"before calling: a = \" + str(a))\n",
    "check_dict(a)\n",
    "print(\"after calling: a = \" + str(a))"
   ]
  },
  {
   "cell_type": "markdown",
   "metadata": {},
   "source": [
    "So this tells us that the numerical and string variables are passed by value, but the list and dictionary variables are passed by reference."
   ]
  }
 ],
 "metadata": {
  "kernelspec": {
   "display_name": "Python 3",
   "language": "python",
   "name": "python3"
  },
  "language_info": {
   "codemirror_mode": {
    "name": "ipython",
    "version": 3
   },
   "file_extension": ".py",
   "mimetype": "text/x-python",
   "name": "python",
   "nbconvert_exporter": "python",
   "pygments_lexer": "ipython3",
   "version": "3.7.1"
  }
 },
 "nbformat": 4,
 "nbformat_minor": 2
}
