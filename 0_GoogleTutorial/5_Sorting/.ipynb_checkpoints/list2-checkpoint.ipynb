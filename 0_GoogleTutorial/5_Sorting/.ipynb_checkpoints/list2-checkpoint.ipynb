{
 "cells": [
  {
   "cell_type": "markdown",
   "metadata": {},
   "source": [
    "Here, we will solve exercises in list2 from Google's python tutorial. Let's begin by defining the test method that will be used everywhere else"
   ]
  },
  {
   "cell_type": "code",
   "execution_count": 2,
   "metadata": {
    "collapsed": false
   },
   "outputs": [],
   "source": [
    "def test(got, expected):\n",
    "  if got == expected:\n",
    "    prefix = ' OK '\n",
    "  else:\n",
    "    prefix = '  X '\n",
    "  print ('%s got: %s expected: %s' % (prefix, repr(got), repr(expected)))"
   ]
  },
  {
   "cell_type": "markdown",
   "metadata": {},
   "source": [
    "Now, let's begin with the function which populates a new list without the adjacent duplicate elements of the input list."
   ]
  },
  {
   "cell_type": "code",
   "execution_count": 7,
   "metadata": {
    "collapsed": true
   },
   "outputs": [],
   "source": [
    "def remove_adjacent(nums):\n",
    "  if len(nums) > 0:\n",
    "    retn_list = []\n",
    "    retn_list.append(nums[0])\n",
    "    \n",
    "    for i in nums:\n",
    "        if i != retn_list[-1]:\n",
    "            retn_list.append(i)\n",
    "  else:\n",
    "    retn_list = nums\n",
    "    \n",
    "  return retn_list\n",
    "        "
   ]
  },
  {
   "cell_type": "markdown",
   "metadata": {},
   "source": [
    "Now, let's call the above function"
   ]
  },
  {
   "cell_type": "code",
   "execution_count": 8,
   "metadata": {
    "collapsed": false
   },
   "outputs": [
    {
     "name": "stdout",
     "output_type": "stream",
     "text": [
      "remove_adjacent\n",
      " OK  got: [1, 2, 3] expected: [1, 2, 3]\n",
      " OK  got: [2, 3] expected: [2, 3]\n",
      " OK  got: [] expected: []\n"
     ]
    }
   ],
   "source": [
    "def main():\n",
    "  print ('remove_adjacent')\n",
    "  test(remove_adjacent([1, 2, 2, 3]), [1, 2, 3])\n",
    "  test(remove_adjacent([2, 2, 3, 3, 3]), [2, 3])\n",
    "  test(remove_adjacent([]), [])\n",
    "\n",
    "if __name__ == '__main__':\n",
    "  main()"
   ]
  },
  {
   "cell_type": "markdown",
   "metadata": {},
   "source": [
    "Now, let's add the restriction that the operation has to be done in place."
   ]
  }
 ],
 "metadata": {
  "kernelspec": {
   "display_name": "Python 3",
   "language": "python",
   "name": "python3"
  },
  "language_info": {
   "codemirror_mode": {
    "name": "ipython",
    "version": 3
   },
   "file_extension": ".py",
   "mimetype": "text/x-python",
   "name": "python",
   "nbconvert_exporter": "python",
   "pygments_lexer": "ipython3",
   "version": "3.6.0"
  }
 },
 "nbformat": 4,
 "nbformat_minor": 2
}
