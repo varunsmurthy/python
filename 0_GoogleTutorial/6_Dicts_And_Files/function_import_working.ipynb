{
 "cells": [
  {
   "cell_type": "markdown",
   "metadata": {},
   "source": [
    "The approach in functiion_import.ipynb didn't work, so trying an alternate way.\n",
    "\n",
    "https://github.com/grst/nbimporter"
   ]
  },
  {
   "cell_type": "code",
   "execution_count": 2,
   "metadata": {
    "collapsed": false
   },
   "outputs": [
    {
     "name": "stdout",
     "output_type": "stream",
     "text": [
      "After the first line:\n",
      "{'we': 2, 'are': 1, 'not': 1, 'what': 1, 'should': 1, 'be': 1}\n"
     ]
    }
   ],
   "source": [
    "import nbimporter\n",
    "from print_words import update_wordcount_dict\n",
    "\n",
    "wordcount_dict = {} \n",
    "update_wordcount_dict(\"We are not what we should be\", wordcount_dict)\n",
    "print('After the first line:')\n",
    "print(wordcount_dict)"
   ]
  },
  {
   "cell_type": "markdown",
   "metadata": {},
   "source": [
    "Phew, so that indeed works! Now we can move on."
   ]
  }
 ],
 "metadata": {
  "kernelspec": {
   "display_name": "Python 3",
   "language": "python",
   "name": "python3"
  },
  "language_info": {
   "codemirror_mode": {
    "name": "ipython",
    "version": 3
   },
   "file_extension": ".py",
   "mimetype": "text/x-python",
   "name": "python",
   "nbconvert_exporter": "python",
   "pygments_lexer": "ipython3",
   "version": "3.6.0"
  }
 },
 "nbformat": 4,
 "nbformat_minor": 2
}
