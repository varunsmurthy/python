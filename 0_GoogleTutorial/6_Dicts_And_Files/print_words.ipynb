{
 "cells": [
  {
   "cell_type": "markdown",
   "metadata": {},
   "source": [
    "Here, the aim is to write a function which prints the number of times each word appears in a file, sorted in alphabetical order."
   ]
  },
  {
   "cell_type": "markdown",
   "metadata": {},
   "source": [
    "Reading each line in a file as a string is straightforward and we don't need a UDF for that. Let's begin by writing a UDF that takes in a string and updates the dictionary data structure that holds the count of each word that has occured."
   ]
  },
  {
   "cell_type": "code",
   "execution_count": 31,
   "metadata": {
    "collapsed": true
   },
   "outputs": [],
   "source": [
    "def update_wordcount_dict(line_str, wordcount_dict):\n",
    "    line_words_list = (line_str.lower()).split() # convert string to lower case and split on whitespace\n",
    "    \n",
    "    for line_word in line_words_list:\n",
    "        if line_word in wordcount_dict:\n",
    "            curr_word_count = wordcount_dict[line_word]\n",
    "            wordcount_dict[line_word] = curr_word_count + 1\n",
    "        else:\n",
    "            wordcount_dict[line_word] = 1"
   ]
  },
  {
   "cell_type": "markdown",
   "metadata": {},
   "source": [
    "The above function uses pass by reference for the dictionary variable. We need to test if this works"
   ]
  },
  {
   "cell_type": "code",
   "execution_count": 32,
   "metadata": {
    "collapsed": false
   },
   "outputs": [
    {
     "name": "stdout",
     "output_type": "stream",
     "text": [
      "After the first line:\n",
      "{'we': 2, 'are': 1, 'not': 1, 'what': 1, 'should': 1, 'be': 1}\n",
      "After the second line:\n",
      "{'we': 4, 'are': 2, 'not': 2, 'what': 2, 'should': 2, 'be': 2}\n",
      "After the third line:\n",
      "{'we': 6, 'are': 3, 'not': 3, 'what': 3, 'should': 2, 'be': 3, 'need': 1, 'to': 1}\n"
     ]
    }
   ],
   "source": [
    "wordcount_dict = {} \n",
    "update_wordcount_dict(\"We are not what we should be\", wordcount_dict)\n",
    "print('After the first line:')\n",
    "print(wordcount_dict)\n",
    "update_wordcount_dict(\"We are not what we should be\", wordcount_dict)\n",
    "print('After the second line:')\n",
    "print(wordcount_dict)\n",
    "update_wordcount_dict(\"We are not what we need to be\", wordcount_dict)\n",
    "print('After the third line:')\n",
    "print(wordcount_dict)\n",
    "del wordcount_dict"
   ]
  },
  {
   "cell_type": "markdown",
   "metadata": {},
   "source": [
    "So it does appear that a dictionary variable can be passed by reference and can be modified in an UDF. "
   ]
  },
  {
   "cell_type": "markdown",
   "metadata": {},
   "source": [
    "Next, we need to write the print_words method which takes a file as the input, separates it into lines, and then calls update_wordcount_dict for each line."
   ]
  },
  {
   "cell_type": "code",
   "execution_count": 45,
   "metadata": {
    "collapsed": false
   },
   "outputs": [],
   "source": [
    "def print_words(filename):\n",
    "    wordcount_dict = {}\n",
    "    \n",
    "    f = open(filename,\"rU\")\n",
    "    \n",
    "    for file_line_str in f:\n",
    "        update_wordcount_dict(file_line_str, wordcount_dict)\n",
    "        \n",
    "    wordcount_dict_sorted = sorted(wordcount_dict)\n",
    "    \n",
    "    #we need to print the key value pairs. \n",
    "    for word_key in wordcount_dict_sorted:\n",
    "        print (\"%s    : %d\" % (word_key, wordcount_dict[word_key]))\n",
    "    "
   ]
  },
  {
   "cell_type": "markdown",
   "metadata": {},
   "source": [
    "Now, we need to write the main method. "
   ]
  },
  {
   "cell_type": "code",
   "execution_count": 47,
   "metadata": {
    "collapsed": false
   },
   "outputs": [
    {
     "name": "stdout",
     "output_type": "stream",
     "text": [
      "small.txt\n",
      "--    : 1\n",
      "are    : 3\n",
      "at    : 1\n",
      "be    : 3\n",
      "but    : 1\n",
      "coach    : 1\n",
      "football    : 1\n",
      "least    : 1\n",
      "need    : 1\n",
      "not    : 3\n",
      "should    : 1\n",
      "to    : 2\n",
      "used    : 1\n",
      "we    : 6\n",
      "what    : 3\n"
     ]
    },
    {
     "name": "stderr",
     "output_type": "stream",
     "text": [
      "C:\\Users\\Varun\\Anaconda3\\lib\\site-packages\\ipykernel\\__main__.py:4: DeprecationWarning: 'U' mode is deprecated\n"
     ]
    }
   ],
   "source": [
    "def main():\n",
    "    file_name_str = \"small.txt\"\n",
    "    print(file_name_str)\n",
    "    print_words(file_name_str)\n",
    "    \n",
    "if __name__ == \"__main__\":\n",
    "    main()"
   ]
  }
 ],
 "metadata": {
  "kernelspec": {
   "display_name": "Python 3",
   "language": "python",
   "name": "python3"
  },
  "language_info": {
   "codemirror_mode": {
    "name": "ipython",
    "version": 3
   },
   "file_extension": ".py",
   "mimetype": "text/x-python",
   "name": "python",
   "nbconvert_exporter": "python",
   "pygments_lexer": "ipython3",
   "version": "3.6.0"
  }
 },
 "nbformat": 4,
 "nbformat_minor": 2
}
