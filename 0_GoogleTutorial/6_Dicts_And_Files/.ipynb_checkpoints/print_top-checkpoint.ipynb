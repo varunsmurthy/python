{
 "cells": [
  {
   "cell_type": "markdown",
   "metadata": {},
   "source": [
    "Here, we need to print the 'n' most common words in a text file. This is similar to print_words, but we need to sort the dictionary data structure on the values instead of the keys. So we will re-use the \"update_wordcount_dict\" method from the \"print_words\" notebook."
   ]
  },
  {
   "cell_type": "code",
   "execution_count": 5,
   "metadata": {
    "collapsed": false
   },
   "outputs": [],
   "source": [
    "import nbimporter\n",
    "from print_words import update_wordcount_dict"
   ]
  },
  {
   "cell_type": "markdown",
   "metadata": {},
   "source": [
    "Now we can implement the print_top method"
   ]
  },
  {
   "cell_type": "code",
   "execution_count": 29,
   "metadata": {
    "collapsed": false
   },
   "outputs": [],
   "source": [
    "def print_top(filename, top_count):\n",
    "    wordcount_dict = {}\n",
    "    \n",
    "    f = open(filename,\"rU\")\n",
    "    \n",
    "    for file_line_str in f:\n",
    "        update_wordcount_dict(file_line_str, wordcount_dict)\n",
    "        \n",
    "    print_counter = 1;\n",
    "    for key,value in reversed(sorted(wordcount_dict.items(), key=return_value)):\n",
    "        if(print_counter <= top_count):\n",
    "            print (\"%s    : %d\" % (key, value))\n",
    "            print_counter = print_counter + 1\n",
    "        \n",
    "def return_value(curr_key_value_tuple):\n",
    "    return curr_key_value_tuple[-1]"
   ]
  },
  {
   "cell_type": "markdown",
   "metadata": {},
   "source": [
    "Now, we need to write the main method"
   ]
  },
  {
   "cell_type": "code",
   "execution_count": 32,
   "metadata": {
    "collapsed": false
   },
   "outputs": [
    {
     "name": "stdout",
     "output_type": "stream",
     "text": [
      "small.txt\n",
      "we    : 6\n",
      "be    : 3\n",
      "what    : 3\n",
      "not    : 3\n",
      "are    : 3\n",
      "\n",
      "alice.txt\n",
      "the    : 1605\n",
      "and    : 766\n",
      "to    : 706\n",
      "a    : 614\n",
      "she    : 518\n"
     ]
    },
    {
     "name": "stderr",
     "output_type": "stream",
     "text": [
      "C:\\Users\\Varun\\Anaconda3\\lib\\site-packages\\ipykernel\\__main__.py:4: DeprecationWarning: 'U' mode is deprecated\n"
     ]
    }
   ],
   "source": [
    "def main():\n",
    "    file_name_str = \"small.txt\"\n",
    "    print(file_name_str)\n",
    "    print_top(file_name_str, 5)\n",
    "    \n",
    "    print()\n",
    "    \n",
    "    file_name_str = \"alice.txt\"\n",
    "    print(file_name_str)\n",
    "    print_top(file_name_str, 5)\n",
    "    \n",
    "if __name__ == \"__main__\":\n",
    "    main()"
   ]
  }
 ],
 "metadata": {
  "kernelspec": {
   "display_name": "Python 3",
   "language": "python",
   "name": "python3"
  },
  "language_info": {
   "codemirror_mode": {
    "name": "ipython",
    "version": 3
   },
   "file_extension": ".py",
   "mimetype": "text/x-python",
   "name": "python",
   "nbconvert_exporter": "python",
   "pygments_lexer": "ipython3",
   "version": "3.6.0"
  }
 },
 "nbformat": 4,
 "nbformat_minor": 2
}
