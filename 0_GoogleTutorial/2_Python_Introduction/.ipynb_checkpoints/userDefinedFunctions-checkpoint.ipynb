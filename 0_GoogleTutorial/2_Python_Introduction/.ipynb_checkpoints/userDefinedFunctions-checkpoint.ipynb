{
 "cells": [
  {
   "cell_type": "markdown",
   "metadata": {},
   "source": [
    "# User defined functions in Python"
   ]
  },
  {
   "cell_type": "markdown",
   "metadata": {},
   "source": [
    "Here, we will use user defined functions to print a word n times.  \n",
    "\n",
    "Let's define the function first."
   ]
  },
  {
   "cell_type": "code",
   "execution_count": 1,
   "metadata": {
    "collapsed": true
   },
   "outputs": [],
   "source": [
    "def repeat(word,count):\n",
    "    op_str_1 = word * count\n",
    "\n",
    "    op_str_2 = ''\n",
    "    for i in range(count):\n",
    "        op_str_2 = op_str_2 + word\n",
    "\n",
    "    print(op_str_1)\n",
    "    print(op_str_2)"
   ]
  },
  {
   "cell_type": "markdown",
   "metadata": {},
   "source": [
    "Lets now call this function using the main function."
   ]
  },
  {
   "cell_type": "code",
   "execution_count": 6,
   "metadata": {
    "collapsed": false
   },
   "outputs": [
    {
     "name": "stdout",
     "output_type": "stream",
     "text": [
      "HelloHelloHelloHello\n",
      "HelloHelloHelloHello\n"
     ]
    }
   ],
   "source": [
    "def main():\n",
    "    word = 'Hello'\n",
    "    count = 4\n",
    "    \n",
    "    repeat(word,count)\n",
    "    \n",
    "if __name__ == '__main__':\n",
    "    main()"
   ]
  },
  {
   "cell_type": "markdown",
   "metadata": {},
   "source": [
    "The keyword 'return' can be used to return a value from the function. Eg:"
   ]
  },
  {
   "cell_type": "code",
   "execution_count": 7,
   "metadata": {
    "collapsed": false
   },
   "outputs": [
    {
     "name": "stdout",
     "output_type": "stream",
     "text": [
      "HelloHelloHelloHello\n"
     ]
    }
   ],
   "source": [
    "def repeat(word,count):\n",
    "    op_str_1 = word * count\n",
    "    return op_str_1\n",
    "\n",
    "def main():\n",
    "    word = 'Hello'\n",
    "    count = 4\n",
    "    \n",
    "    print(repeat(word,count))\n",
    "    \n",
    "if __name__ == '__main__':\n",
    "    main()"
   ]
  }
 ],
 "metadata": {
  "kernelspec": {
   "display_name": "Python 3",
   "language": "python",
   "name": "python3"
  },
  "language_info": {
   "codemirror_mode": {
    "name": "ipython",
    "version": 3
   },
   "file_extension": ".py",
   "mimetype": "text/x-python",
   "name": "python",
   "nbconvert_exporter": "python",
   "pygments_lexer": "ipython3",
   "version": "3.6.0"
  }
 },
 "nbformat": 4,
 "nbformat_minor": 2
}
