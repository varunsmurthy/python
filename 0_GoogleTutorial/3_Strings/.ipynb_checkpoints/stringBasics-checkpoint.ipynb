{
 "cells": [
  {
   "cell_type": "markdown",
   "metadata": {},
   "source": [
    "# Some basic string operations"
   ]
  },
  {
   "cell_type": "markdown",
   "metadata": {},
   "source": [
    "Using the '+' to concatenate strings, using the '%' to construct strings from variables, using slices, etc."
   ]
  },
  {
   "cell_type": "code",
   "execution_count": 8,
   "metadata": {
    "collapsed": false
   },
   "outputs": [
    {
     "name": "stdout",
     "output_type": "stream",
     "text": [
      "HolaAlice\n",
      "Hola Bob\n",
      "HolaNick\n",
      "Hola, Alice and Bob.\n",
      "hola\n",
      "HOLA\n",
      "4\n",
      "ol\n",
      "H\n",
      "a\n",
      "ol\n"
     ]
    }
   ],
   "source": [
    "def strings():\n",
    "    a = \"Hello\"\n",
    "    print (a + \"Alice\")\n",
    "    print (a, \"Bob\")\n",
    "    print (a + \"%s\" %(\"Nick\"))\n",
    "    print (a + \", %s and %s.\" %(\"Alice\", \"Bob\"))\n",
    "    print (a.lower())\n",
    "    print (a.upper())\n",
    "    print (len(a))\n",
    "    print (a[1:3])\n",
    "    print (a[0])\n",
    "    print (a[-1])\n",
    "    print (a[-3:-1])\n",
    "\n",
    "\n",
    "def main():\n",
    "    strings()\n",
    "    \n",
    "if __name__ == '__main__':\n",
    "    main()"
   ]
  }
 ],
 "metadata": {
  "kernelspec": {
   "display_name": "Python 3",
   "language": "python",
   "name": "python3"
  },
  "language_info": {
   "codemirror_mode": {
    "name": "ipython",
    "version": 3
   },
   "file_extension": ".py",
   "mimetype": "text/x-python",
   "name": "python",
   "nbconvert_exporter": "python",
   "pygments_lexer": "ipython3",
   "version": "3.6.0"
  }
 },
 "nbformat": 4,
 "nbformat_minor": 2
}
