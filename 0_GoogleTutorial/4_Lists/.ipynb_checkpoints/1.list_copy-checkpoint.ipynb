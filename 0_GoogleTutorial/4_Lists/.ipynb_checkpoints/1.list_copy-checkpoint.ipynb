{
 "cells": [
  {
   "cell_type": "markdown",
   "metadata": {},
   "source": [
    "Some code to verify that Python List variable names are actually pointers. "
   ]
  },
  {
   "cell_type": "code",
   "execution_count": 1,
   "metadata": {
    "collapsed": false
   },
   "outputs": [
    {
     "name": "stdout",
     "output_type": "stream",
     "text": [
      "squares = [0, 1, 4, 9, 16]\n",
      "new_squares = [0, 1, 4, 9, 16]\n",
      "new_squares = [0, 1, 8, 27, 64]\n",
      "squares = [0, 1, 8, 27, 64]\n"
     ]
    }
   ],
   "source": [
    "def main():\n",
    "    squares = [i*i for i in range(0,5)]\n",
    "    print('squares =',squares)\n",
    "    new_squares = squares\n",
    "    print('new_squares =',new_squares)\n",
    "    squares_len = len(squares)\n",
    "    for i in range(0,squares_len):\n",
    "        new_squares[i] = i*i*i\n",
    "    print('new_squares =',new_squares)\n",
    "    print('squares =',squares)\n",
    "    \n",
    "if __name__ == \"__main__\":\n",
    "    main()"
   ]
  },
  {
   "cell_type": "markdown",
   "metadata": {},
   "source": [
    "Initially, squares and new_squares pointed to the same list. When new_squares was modified, squares was similarly modified."
   ]
  }
 ],
 "metadata": {
  "kernelspec": {
   "display_name": "Python 3",
   "language": "python",
   "name": "python3"
  },
  "language_info": {
   "codemirror_mode": {
    "name": "ipython",
    "version": 3
   },
   "file_extension": ".py",
   "mimetype": "text/x-python",
   "name": "python",
   "nbconvert_exporter": "python",
   "pygments_lexer": "ipython3",
   "version": "3.6.0"
  }
 },
 "nbformat": 4,
 "nbformat_minor": 2
}
